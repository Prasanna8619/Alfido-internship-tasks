{
  "cells": [
    {
      "cell_type": "markdown",
      "metadata": {
        "id": "view-in-github",
        "colab_type": "text"
      },
      "source": [
        "<a href=\"https://colab.research.google.com/github/Prasanna8619/Alfido-internship-tasks/blob/main/Task2.ipynb\" target=\"_parent\"><img src=\"https://colab.research.google.com/assets/colab-badge.svg\" alt=\"Open In Colab\"/></a>"
      ]
    },
    {
      "cell_type": "code",
      "execution_count": null,
      "metadata": {
        "colab": {
          "background_save": true,
          "base_uri": "https://localhost:8080/"
        },
        "id": "LhH70TuBKke-",
        "outputId": "58eccd4d-d9ea-499c-e6bb-b4f737364577"
      },
      "outputs": [
        {
          "name": "stdout",
          "output_type": "stream",
          "text": [
            "Welcome to the Number Guessing Game!\n",
            "I'm thinking of a number between 1 and 100.\n",
            "Too high! Try again.\n",
            "Too high! Try again.\n",
            "Too high! Try again.\n",
            "Too high! Try again.\n",
            "Too high! Try again.\n",
            "Too high! Try again.\n",
            "Too high! Try again.\n",
            "Too high! Try again.\n",
            "Too high! Try again.\n",
            "Too high! Try again.\n",
            "Too high! Try again.\n",
            "Too high! Try again.\n",
            "Too high! Try again.\n",
            "Too high! Try again.\n",
            "Too high! Try again.\n"
          ]
        }
      ],
      "source": [
        "import random\n",
        "attempts = 0\n",
        "secret_number = random.randint(1, 100)\n",
        "print(\"Welcome to the Number Guessing Game!\")\n",
        "print(\"I'm thinking of a number between 1 and 100.\")\n",
        "while True:\n",
        "    try:\n",
        "        guess = int(input(\"Enter your guess: \"))\n",
        "        attempts += 1\n",
        "        if guess < 1 or guess > 100:\n",
        "            print(\"Please guess a number between 1 and 100.\")\n",
        "        elif guess < secret_number:\n",
        "            print(\"Too low! Try again.\")\n",
        "        elif guess > secret_number:\n",
        "            print(\"Too high! Try again.\")\n",
        "        else:\n",
        "            print(f\"Congratulations! You guessed the number in {attempts} attempts.\")\n",
        "            break\n",
        "    except ValueError:\n",
        "        print(\"Invalid input. Please enter a number.\")"
      ]
    },
    {
      "cell_type": "code",
      "execution_count": null,
      "metadata": {
        "id": "khCdcdbTcnyh"
      },
      "outputs": [],
      "source": []
    }
  ],
  "metadata": {
    "colab": {
      "provenance": [],
      "authorship_tag": "ABX9TyMrpLTk24cw//5fNv4YMnOw",
      "include_colab_link": true
    },
    "kernelspec": {
      "display_name": "Python 3",
      "name": "python3"
    },
    "language_info": {
      "name": "python"
    }
  },
  "nbformat": 4,
  "nbformat_minor": 0
}