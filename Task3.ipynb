{
  "nbformat": 4,
  "nbformat_minor": 0,
  "metadata": {
    "colab": {
      "provenance": [],
      "authorship_tag": "ABX9TyMPQZQtNKQ6XQbXaWYDkMWe",
      "include_colab_link": true
    },
    "kernelspec": {
      "name": "python3",
      "display_name": "Python 3"
    },
    "language_info": {
      "name": "python"
    }
  },
  "cells": [
    {
      "cell_type": "markdown",
      "metadata": {
        "id": "view-in-github",
        "colab_type": "text"
      },
      "source": [
        "<a href=\"https://colab.research.google.com/github/Prasanna8619/Alfido-internship-tasks/blob/main/Task3.ipynb\" target=\"_parent\"><img src=\"https://colab.research.google.com/assets/colab-badge.svg\" alt=\"Open In Colab\"/></a>"
      ]
    },
    {
      "cell_type": "code",
      "execution_count": null,
      "metadata": {
        "colab": {
          "base_uri": "https://localhost:8080/"
        },
        "id": "zvIIVl-KyQuF",
        "outputId": "6dbd8045-f37a-4246-ddd0-c6d34b536aac"
      },
      "outputs": [
        {
          "output_type": "stream",
          "name": "stdout",
          "text": [
            "Temperature Converter\n",
            "1. Celsius to Fahrenheit/Kelvin\n",
            "2. Fahrenheit to Celsius/Kelvin\n",
            "3. Kelvin to Celsius/Fahrenheit\n",
            "Choose a conversion option (1/2/3): 3\n",
            "Enter temperature in Kelvin: 85\n",
            "Celsius: -188.15\n",
            "Fahrenheit: -306.67\n"
          ]
        }
      ],
      "source": [
        "def celsius_to_fahrenheit(c):\n",
        "    return (c * 9/5) + 32\n",
        "\n",
        "def celsius_to_kelvin(c):\n",
        "    return c + 273.15\n",
        "\n",
        "def fahrenheit_to_celsius(f):\n",
        "    return (f - 32) * 5/9\n",
        "\n",
        "def fahrenheit_to_kelvin(f):\n",
        "    return (f - 32) * 5/9 + 273.15\n",
        "\n",
        "def kelvin_to_celsius(k):\n",
        "    return k - 273.15\n",
        "\n",
        "def kelvin_to_fahrenheit(k):\n",
        "    return (k - 273.15) * 9/5 + 32\n",
        "\n",
        "def temperature_converter():\n",
        "    print(\"Temperature Converter\")\n",
        "    print(\"1. Celsius to Fahrenheit/Kelvin\")\n",
        "    print(\"2. Fahrenheit to Celsius/Kelvin\")\n",
        "    print(\"3. Kelvin to Celsius/Fahrenheit\")\n",
        "\n",
        "    choice = input(\"Choose a conversion option (1/2/3): \")\n",
        "\n",
        "    if choice == '1':\n",
        "        c = float(input(\"Enter temperature in Celsius: \"))\n",
        "        print(f\"Fahrenheit: {celsius_to_fahrenheit(c):.2f}\")\n",
        "        print(f\"Kelvin: {celsius_to_kelvin(c):.2f}\")\n",
        "    elif choice == '2':\n",
        "        f = float(input(\"Enter temperature in Fahrenheit: \"))\n",
        "        print(f\"Celsius: {fahrenheit_to_celsius(f):.2f}\")\n",
        "        print(f\"Kelvin: {fahrenheit_to_kelvin(f):.2f}\")\n",
        "    elif choice == '3':\n",
        "        k = float(input(\"Enter temperature in Kelvin: \"))\n",
        "        print(f\"Celsius: {kelvin_to_celsius(k):.2f}\")\n",
        "        print(f\"Fahrenheit: {kelvin_to_fahrenheit(k):.2f}\")\n",
        "    else:\n",
        "        print(\"Invalid choice.\")\n",
        "\n",
        "# Run the program\n",
        "temperature_converter()\n"
      ]
    }
  ]
}